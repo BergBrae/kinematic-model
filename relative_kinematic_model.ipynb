{
 "cells": [
  {
   "cell_type": "code",
   "execution_count": 1,
   "metadata": {},
   "outputs": [],
   "source": [
    "import glob as glob\n",
    "import pandas as pd\n",
    "import numpy as np\n",
    "import torch as t"
   ]
  },
  {
   "cell_type": "code",
   "execution_count": 2,
   "metadata": {},
   "outputs": [
    {
     "data": {
      "text/html": [
       "<div>\n",
       "<style scoped>\n",
       "    .dataframe tbody tr th:only-of-type {\n",
       "        vertical-align: middle;\n",
       "    }\n",
       "\n",
       "    .dataframe tbody tr th {\n",
       "        vertical-align: top;\n",
       "    }\n",
       "\n",
       "    .dataframe thead th {\n",
       "        text-align: right;\n",
       "    }\n",
       "</style>\n",
       "<table border=\"1\" class=\"dataframe\">\n",
       "  <thead>\n",
       "    <tr style=\"text-align: right;\">\n",
       "      <th></th>\n",
       "      <th>mavpackettype</th>\n",
       "      <th>time_boot_ms</th>\n",
       "      <th>roll</th>\n",
       "      <th>pitch</th>\n",
       "      <th>yaw</th>\n",
       "      <th>rollspeed</th>\n",
       "      <th>pitchspeed</th>\n",
       "      <th>yawspeed</th>\n",
       "      <th>lat</th>\n",
       "      <th>lon</th>\n",
       "      <th>alt</th>\n",
       "      <th>relative_alt</th>\n",
       "      <th>vx</th>\n",
       "      <th>vy</th>\n",
       "      <th>vz</th>\n",
       "      <th>hdg</th>\n",
       "      <th>time_s</th>\n",
       "    </tr>\n",
       "  </thead>\n",
       "  <tbody>\n",
       "    <tr>\n",
       "      <th>0</th>\n",
       "      <td>UAV_ATTITUDE</td>\n",
       "      <td>0</td>\n",
       "      <td>0.020393</td>\n",
       "      <td>0.012543</td>\n",
       "      <td>0.295718</td>\n",
       "      <td>-0.001011</td>\n",
       "      <td>-0.001186</td>\n",
       "      <td>-0.000113</td>\n",
       "      <td>NaN</td>\n",
       "      <td>NaN</td>\n",
       "      <td>NaN</td>\n",
       "      <td>NaN</td>\n",
       "      <td>NaN</td>\n",
       "      <td>NaN</td>\n",
       "      <td>NaN</td>\n",
       "      <td>NaN</td>\n",
       "      <td>0.000</td>\n",
       "    </tr>\n",
       "    <tr>\n",
       "      <th>1</th>\n",
       "      <td>GCS_ATTITUDE</td>\n",
       "      <td>0</td>\n",
       "      <td>-0.023365</td>\n",
       "      <td>0.123523</td>\n",
       "      <td>-0.122601</td>\n",
       "      <td>0.000993</td>\n",
       "      <td>0.000395</td>\n",
       "      <td>0.000471</td>\n",
       "      <td>NaN</td>\n",
       "      <td>NaN</td>\n",
       "      <td>NaN</td>\n",
       "      <td>NaN</td>\n",
       "      <td>NaN</td>\n",
       "      <td>NaN</td>\n",
       "      <td>NaN</td>\n",
       "      <td>NaN</td>\n",
       "      <td>0.000</td>\n",
       "    </tr>\n",
       "    <tr>\n",
       "      <th>2</th>\n",
       "      <td>GCS_ATTITUDE</td>\n",
       "      <td>100</td>\n",
       "      <td>-0.023374</td>\n",
       "      <td>0.123501</td>\n",
       "      <td>-0.122614</td>\n",
       "      <td>-0.000150</td>\n",
       "      <td>0.000763</td>\n",
       "      <td>0.000189</td>\n",
       "      <td>NaN</td>\n",
       "      <td>NaN</td>\n",
       "      <td>NaN</td>\n",
       "      <td>NaN</td>\n",
       "      <td>NaN</td>\n",
       "      <td>NaN</td>\n",
       "      <td>NaN</td>\n",
       "      <td>NaN</td>\n",
       "      <td>0.100</td>\n",
       "    </tr>\n",
       "    <tr>\n",
       "      <th>3</th>\n",
       "      <td>UAV_ATTITUDE</td>\n",
       "      <td>100</td>\n",
       "      <td>0.020423</td>\n",
       "      <td>0.012552</td>\n",
       "      <td>0.295651</td>\n",
       "      <td>-0.000149</td>\n",
       "      <td>0.000036</td>\n",
       "      <td>-0.000859</td>\n",
       "      <td>NaN</td>\n",
       "      <td>NaN</td>\n",
       "      <td>NaN</td>\n",
       "      <td>NaN</td>\n",
       "      <td>NaN</td>\n",
       "      <td>NaN</td>\n",
       "      <td>NaN</td>\n",
       "      <td>NaN</td>\n",
       "      <td>0.100</td>\n",
       "    </tr>\n",
       "    <tr>\n",
       "      <th>4</th>\n",
       "      <td>UAV_GLOBAL_POSITION_INT</td>\n",
       "      <td>140</td>\n",
       "      <td>NaN</td>\n",
       "      <td>NaN</td>\n",
       "      <td>NaN</td>\n",
       "      <td>NaN</td>\n",
       "      <td>NaN</td>\n",
       "      <td>NaN</td>\n",
       "      <td>42.724676</td>\n",
       "      <td>-84.480802</td>\n",
       "      <td>274.12</td>\n",
       "      <td>2186.0</td>\n",
       "      <td>-0.01</td>\n",
       "      <td>-0.02</td>\n",
       "      <td>-0.00</td>\n",
       "      <td>1693.0</td>\n",
       "      <td>0.140</td>\n",
       "    </tr>\n",
       "    <tr>\n",
       "      <th>...</th>\n",
       "      <td>...</td>\n",
       "      <td>...</td>\n",
       "      <td>...</td>\n",
       "      <td>...</td>\n",
       "      <td>...</td>\n",
       "      <td>...</td>\n",
       "      <td>...</td>\n",
       "      <td>...</td>\n",
       "      <td>...</td>\n",
       "      <td>...</td>\n",
       "      <td>...</td>\n",
       "      <td>...</td>\n",
       "      <td>...</td>\n",
       "      <td>...</td>\n",
       "      <td>...</td>\n",
       "      <td>...</td>\n",
       "      <td>...</td>\n",
       "    </tr>\n",
       "    <tr>\n",
       "      <th>1995</th>\n",
       "      <td>GCS_ATTITUDE</td>\n",
       "      <td>76700</td>\n",
       "      <td>-0.124266</td>\n",
       "      <td>-0.072007</td>\n",
       "      <td>-1.054624</td>\n",
       "      <td>0.140474</td>\n",
       "      <td>0.046855</td>\n",
       "      <td>0.836001</td>\n",
       "      <td>NaN</td>\n",
       "      <td>NaN</td>\n",
       "      <td>NaN</td>\n",
       "      <td>NaN</td>\n",
       "      <td>NaN</td>\n",
       "      <td>NaN</td>\n",
       "      <td>NaN</td>\n",
       "      <td>NaN</td>\n",
       "      <td>76.700</td>\n",
       "    </tr>\n",
       "    <tr>\n",
       "      <th>1996</th>\n",
       "      <td>UAV_GLOBAL_POSITION_INT</td>\n",
       "      <td>76731</td>\n",
       "      <td>NaN</td>\n",
       "      <td>NaN</td>\n",
       "      <td>NaN</td>\n",
       "      <td>NaN</td>\n",
       "      <td>NaN</td>\n",
       "      <td>NaN</td>\n",
       "      <td>42.724648</td>\n",
       "      <td>-84.480773</td>\n",
       "      <td>275.58</td>\n",
       "      <td>3642.0</td>\n",
       "      <td>0.56</td>\n",
       "      <td>-1.01</td>\n",
       "      <td>0.11</td>\n",
       "      <td>18863.0</td>\n",
       "      <td>76.731</td>\n",
       "    </tr>\n",
       "    <tr>\n",
       "      <th>1997</th>\n",
       "      <td>UAV_ATTITUDE</td>\n",
       "      <td>76800</td>\n",
       "      <td>-0.000866</td>\n",
       "      <td>0.011652</td>\n",
       "      <td>-3.028455</td>\n",
       "      <td>0.158962</td>\n",
       "      <td>0.122843</td>\n",
       "      <td>-0.492457</td>\n",
       "      <td>NaN</td>\n",
       "      <td>NaN</td>\n",
       "      <td>NaN</td>\n",
       "      <td>NaN</td>\n",
       "      <td>NaN</td>\n",
       "      <td>NaN</td>\n",
       "      <td>NaN</td>\n",
       "      <td>NaN</td>\n",
       "      <td>76.800</td>\n",
       "    </tr>\n",
       "    <tr>\n",
       "      <th>1998</th>\n",
       "      <td>GCS_ATTITUDE</td>\n",
       "      <td>76800</td>\n",
       "      <td>-0.121024</td>\n",
       "      <td>-0.063388</td>\n",
       "      <td>-0.967107</td>\n",
       "      <td>0.095547</td>\n",
       "      <td>-0.017044</td>\n",
       "      <td>0.906274</td>\n",
       "      <td>NaN</td>\n",
       "      <td>NaN</td>\n",
       "      <td>NaN</td>\n",
       "      <td>NaN</td>\n",
       "      <td>NaN</td>\n",
       "      <td>NaN</td>\n",
       "      <td>NaN</td>\n",
       "      <td>NaN</td>\n",
       "      <td>76.800</td>\n",
       "    </tr>\n",
       "    <tr>\n",
       "      <th>1999</th>\n",
       "      <td>GCS_GLOBAL_POSITION_INT</td>\n",
       "      <td>76861</td>\n",
       "      <td>NaN</td>\n",
       "      <td>NaN</td>\n",
       "      <td>NaN</td>\n",
       "      <td>NaN</td>\n",
       "      <td>NaN</td>\n",
       "      <td>NaN</td>\n",
       "      <td>42.724600</td>\n",
       "      <td>-84.480813</td>\n",
       "      <td>275.00</td>\n",
       "      <td>3068.0</td>\n",
       "      <td>-0.34</td>\n",
       "      <td>0.27</td>\n",
       "      <td>-0.13</td>\n",
       "      <td>30783.0</td>\n",
       "      <td>76.861</td>\n",
       "    </tr>\n",
       "  </tbody>\n",
       "</table>\n",
       "<p>2000 rows × 17 columns</p>\n",
       "</div>"
      ],
      "text/plain": [
       "                mavpackettype  time_boot_ms      roll     pitch       yaw  \\\n",
       "0                UAV_ATTITUDE             0  0.020393  0.012543  0.295718   \n",
       "1                GCS_ATTITUDE             0 -0.023365  0.123523 -0.122601   \n",
       "2                GCS_ATTITUDE           100 -0.023374  0.123501 -0.122614   \n",
       "3                UAV_ATTITUDE           100  0.020423  0.012552  0.295651   \n",
       "4     UAV_GLOBAL_POSITION_INT           140       NaN       NaN       NaN   \n",
       "...                       ...           ...       ...       ...       ...   \n",
       "1995             GCS_ATTITUDE         76700 -0.124266 -0.072007 -1.054624   \n",
       "1996  UAV_GLOBAL_POSITION_INT         76731       NaN       NaN       NaN   \n",
       "1997             UAV_ATTITUDE         76800 -0.000866  0.011652 -3.028455   \n",
       "1998             GCS_ATTITUDE         76800 -0.121024 -0.063388 -0.967107   \n",
       "1999  GCS_GLOBAL_POSITION_INT         76861       NaN       NaN       NaN   \n",
       "\n",
       "      rollspeed  pitchspeed  yawspeed        lat        lon     alt  \\\n",
       "0     -0.001011   -0.001186 -0.000113        NaN        NaN     NaN   \n",
       "1      0.000993    0.000395  0.000471        NaN        NaN     NaN   \n",
       "2     -0.000150    0.000763  0.000189        NaN        NaN     NaN   \n",
       "3     -0.000149    0.000036 -0.000859        NaN        NaN     NaN   \n",
       "4           NaN         NaN       NaN  42.724676 -84.480802  274.12   \n",
       "...         ...         ...       ...        ...        ...     ...   \n",
       "1995   0.140474    0.046855  0.836001        NaN        NaN     NaN   \n",
       "1996        NaN         NaN       NaN  42.724648 -84.480773  275.58   \n",
       "1997   0.158962    0.122843 -0.492457        NaN        NaN     NaN   \n",
       "1998   0.095547   -0.017044  0.906274        NaN        NaN     NaN   \n",
       "1999        NaN         NaN       NaN  42.724600 -84.480813  275.00   \n",
       "\n",
       "      relative_alt    vx    vy    vz      hdg  time_s  \n",
       "0              NaN   NaN   NaN   NaN      NaN   0.000  \n",
       "1              NaN   NaN   NaN   NaN      NaN   0.000  \n",
       "2              NaN   NaN   NaN   NaN      NaN   0.100  \n",
       "3              NaN   NaN   NaN   NaN      NaN   0.100  \n",
       "4           2186.0 -0.01 -0.02 -0.00   1693.0   0.140  \n",
       "...            ...   ...   ...   ...      ...     ...  \n",
       "1995           NaN   NaN   NaN   NaN      NaN  76.700  \n",
       "1996        3642.0  0.56 -1.01  0.11  18863.0  76.731  \n",
       "1997           NaN   NaN   NaN   NaN      NaN  76.800  \n",
       "1998           NaN   NaN   NaN   NaN      NaN  76.800  \n",
       "1999        3068.0 -0.34  0.27 -0.13  30783.0  76.861  \n",
       "\n",
       "[2000 rows x 17 columns]"
      ]
     },
     "execution_count": 2,
     "metadata": {},
     "output_type": "execute_result"
    }
   ],
   "source": [
    "drone = pd.read_json('data/data_20092023-15:36:05(more_movement).json')\n",
    "gcs = pd.read_json('data/data_20092023-15:39:26(less_movement).json')\n",
    "\n",
    "drone['mavpackettype'] = 'UAV_' + drone['mavpackettype']\n",
    "drone['time_boot_ms'] -= drone['time_boot_ms'].min()\n",
    "gcs['mavpackettype'] = 'GCS_' + gcs['mavpackettype']\n",
    "gcs['time_boot_ms'] -= gcs['time_boot_ms'].min()\n",
    "\n",
    "df = pd.concat([drone, gcs], ignore_index=True)\n",
    "df = df.sort_values(by=['time_boot_ms'], ignore_index=True)\n",
    "\n",
    "df['time_s'] = df['time_boot_ms'] / 1000\n",
    "df['lat'] = df['lat'] / 1e7\n",
    "df['lon'] = df['lon'] / 1e7\n",
    "df['alt'] = df['alt'] / 1000\n",
    "\n",
    "df['vx'] = df['vx'] / 100 # to m/s\n",
    "df['vy'] = df['vy'] / 100\n",
    "df['vz'] = -1*(df['vz'] / 100) # Invert z velocity\n",
    "df"
   ]
  },
  {
   "cell_type": "code",
   "execution_count": 3,
   "metadata": {},
   "outputs": [],
   "source": [
    "import math\n",
    "import pymap3d as pm\n",
    "\n",
    "# Function to convert latitude, longitude, and altitude to ENU coordinates\n",
    "def lat_lon_alt_to_enu(lat, lon, alt, ref_lat, ref_lon, ref_alt):\n",
    "    return pm.geodetic2enu(lat, lon, alt, ref_lat, ref_lon, ref_alt)\n",
    "\n",
    "# Position class for managing and updating position-related data\n",
    "class Position:\n",
    "    def __init__(self, ref_lat, ref_lon, ref_alt):\n",
    "        self.ref_lat = ref_lat\n",
    "        self.ref_lon = ref_lon\n",
    "        self.ref_alt = ref_alt\n",
    "        self.x = None\n",
    "        self.y = None\n",
    "        self.z = None\n",
    "        self.vx = None\n",
    "        self.vy = None\n",
    "        self.vz = None\n",
    "        self.timestamp = None\n",
    "\n",
    "    def update(self, lat, lon, alt, vx, vy, vz, timestamp):\n",
    "        self.x, self.y, self.z = lat_lon_alt_to_enu(lat, lon, alt, self.ref_lat, self.ref_lon, self.ref_alt)\n",
    "        self.vx = vx #/ 100  # convert cm/s to m/s\n",
    "        self.vy = vy #/ 100  # convert cm/s to m/s\n",
    "        self.vz = vz #/ 100  # convert cm/s to m/s\n",
    "        self.timestamp = timestamp\n",
    "\n",
    "    def kinematic_update(self, current_time):\n",
    "        if self.timestamp is not None:\n",
    "            dt = (current_time - self.timestamp)\n",
    "            self.x += self.vx * dt\n",
    "            self.y += self.vy * dt\n",
    "            self.z += self.vz * dt\n",
    "            self.timestamp = current_time\n",
    "\n",
    "# Attitude class for managing and updating attitude-related data\n",
    "class Attitude:\n",
    "    def __init__(self):\n",
    "        self.roll = None\n",
    "        self.pitch = None\n",
    "        self.yaw = None\n",
    "        self.rollspeed = None\n",
    "        self.pitchspeed = None\n",
    "        self.yawspeed = None\n",
    "        self.timestamp = None\n",
    "\n",
    "    def update(self, roll, pitch, yaw, rollspeed, pitchspeed, yawspeed, timestamp):\n",
    "        self.roll = roll\n",
    "        self.pitch = pitch\n",
    "        self.yaw = yaw\n",
    "        self.rollspeed = rollspeed\n",
    "        self.pitchspeed = pitchspeed\n",
    "        self.yawspeed = yawspeed\n",
    "        self.timestamp = timestamp\n",
    "\n",
    "    def kinematic_update(self, current_time):\n",
    "        if self.timestamp is not None:\n",
    "            dt = (current_time - self.timestamp)\n",
    "            self.roll += self.rollspeed * dt\n",
    "            self.pitch += self.pitchspeed * dt\n",
    "            self.yaw += self.yawspeed * dt\n",
    "            self.timestamp = current_time\n",
    "\n",
    "# Entity class for combining Position and Attitude\n",
    "class Entity:\n",
    "    def __init__(self, ref_lat, ref_lon, ref_alt):\n",
    "        self.position = Position(ref_lat, ref_lon, ref_alt)\n",
    "        self.attitude = Attitude()\n",
    "\n",
    "# Model class for managing UAV and GCS and for providing the prediction feature\n",
    "class Model:\n",
    "    def __init__(self, ref_lat, ref_lon, ref_alt):\n",
    "        self.uav = Entity(ref_lat, ref_lon, ref_alt)\n",
    "        self.gcs = Entity(ref_lat, ref_lon, ref_alt)\n",
    "        \n",
    "    def relative_location(self, current_time):\n",
    "        # Perform kinematic update\n",
    "        self.uav.position.kinematic_update(current_time)\n",
    "        self.gcs.position.kinematic_update(current_time)\n",
    "        self.uav.attitude.kinematic_update(current_time)\n",
    "        self.gcs.attitude.kinematic_update(current_time)\n",
    "        \n",
    "        # Calculate relative location\n",
    "        if self.uav.position.timestamp is not None and self.gcs.position.timestamp is not None:\n",
    "            delta_x = self.uav.position.x - self.gcs.position.x\n",
    "            delta_y = self.uav.position.y - self.gcs.position.y\n",
    "            delta_z = self.uav.position.z - self.gcs.position.z\n",
    "            return {'delta_x': delta_x, 'delta_y': delta_y, 'delta_z': delta_z}\n",
    "        else:\n",
    "            return None  # Insufficient data to calculate"
   ]
  },
  {
   "cell_type": "code",
   "execution_count": 4,
   "metadata": {},
   "outputs": [
    {
     "data": {
      "text/html": [
       "<div>\n",
       "<style scoped>\n",
       "    .dataframe tbody tr th:only-of-type {\n",
       "        vertical-align: middle;\n",
       "    }\n",
       "\n",
       "    .dataframe tbody tr th {\n",
       "        vertical-align: top;\n",
       "    }\n",
       "\n",
       "    .dataframe thead th {\n",
       "        text-align: right;\n",
       "    }\n",
       "</style>\n",
       "<table border=\"1\" class=\"dataframe\">\n",
       "  <thead>\n",
       "    <tr style=\"text-align: right;\">\n",
       "      <th></th>\n",
       "      <th>mavpackettype</th>\n",
       "      <th>time_boot_ms</th>\n",
       "      <th>roll</th>\n",
       "      <th>pitch</th>\n",
       "      <th>yaw</th>\n",
       "      <th>rollspeed</th>\n",
       "      <th>pitchspeed</th>\n",
       "      <th>yawspeed</th>\n",
       "      <th>lat</th>\n",
       "      <th>lon</th>\n",
       "      <th>alt</th>\n",
       "      <th>relative_alt</th>\n",
       "      <th>vx</th>\n",
       "      <th>vy</th>\n",
       "      <th>vz</th>\n",
       "      <th>hdg</th>\n",
       "      <th>time_s</th>\n",
       "    </tr>\n",
       "  </thead>\n",
       "  <tbody>\n",
       "    <tr>\n",
       "      <th>0</th>\n",
       "      <td>GCS_ATTITUDE</td>\n",
       "      <td>0.000</td>\n",
       "      <td>-0.023365</td>\n",
       "      <td>0.123523</td>\n",
       "      <td>-0.122601</td>\n",
       "      <td>0.000993</td>\n",
       "      <td>0.000395</td>\n",
       "      <td>0.000471</td>\n",
       "      <td>NaN</td>\n",
       "      <td>NaN</td>\n",
       "      <td>NaN</td>\n",
       "      <td>NaN</td>\n",
       "      <td>NaN</td>\n",
       "      <td>NaN</td>\n",
       "      <td>NaN</td>\n",
       "      <td>NaN</td>\n",
       "      <td>0.000</td>\n",
       "    </tr>\n",
       "    <tr>\n",
       "      <th>1</th>\n",
       "      <td>UAV_ATTITUDE</td>\n",
       "      <td>0.000</td>\n",
       "      <td>0.020393</td>\n",
       "      <td>0.012543</td>\n",
       "      <td>0.295718</td>\n",
       "      <td>-0.001011</td>\n",
       "      <td>-0.001186</td>\n",
       "      <td>-0.000113</td>\n",
       "      <td>NaN</td>\n",
       "      <td>NaN</td>\n",
       "      <td>NaN</td>\n",
       "      <td>NaN</td>\n",
       "      <td>NaN</td>\n",
       "      <td>NaN</td>\n",
       "      <td>NaN</td>\n",
       "      <td>NaN</td>\n",
       "      <td>0.000</td>\n",
       "    </tr>\n",
       "    <tr>\n",
       "      <th>2</th>\n",
       "      <td>GCS_ATTITUDE</td>\n",
       "      <td>0.100</td>\n",
       "      <td>-0.023374</td>\n",
       "      <td>0.123501</td>\n",
       "      <td>-0.122614</td>\n",
       "      <td>-0.000150</td>\n",
       "      <td>0.000763</td>\n",
       "      <td>0.000189</td>\n",
       "      <td>NaN</td>\n",
       "      <td>NaN</td>\n",
       "      <td>NaN</td>\n",
       "      <td>NaN</td>\n",
       "      <td>NaN</td>\n",
       "      <td>NaN</td>\n",
       "      <td>NaN</td>\n",
       "      <td>NaN</td>\n",
       "      <td>0.100</td>\n",
       "    </tr>\n",
       "    <tr>\n",
       "      <th>3</th>\n",
       "      <td>UAV_ATTITUDE</td>\n",
       "      <td>0.100</td>\n",
       "      <td>0.020423</td>\n",
       "      <td>0.012552</td>\n",
       "      <td>0.295651</td>\n",
       "      <td>-0.000149</td>\n",
       "      <td>0.000036</td>\n",
       "      <td>-0.000859</td>\n",
       "      <td>NaN</td>\n",
       "      <td>NaN</td>\n",
       "      <td>NaN</td>\n",
       "      <td>NaN</td>\n",
       "      <td>NaN</td>\n",
       "      <td>NaN</td>\n",
       "      <td>NaN</td>\n",
       "      <td>NaN</td>\n",
       "      <td>0.100</td>\n",
       "    </tr>\n",
       "    <tr>\n",
       "      <th>4</th>\n",
       "      <td>UAV_GLOBAL_POSITION_INT</td>\n",
       "      <td>0.140</td>\n",
       "      <td>NaN</td>\n",
       "      <td>NaN</td>\n",
       "      <td>NaN</td>\n",
       "      <td>NaN</td>\n",
       "      <td>NaN</td>\n",
       "      <td>NaN</td>\n",
       "      <td>42.724676</td>\n",
       "      <td>-84.480802</td>\n",
       "      <td>274.12</td>\n",
       "      <td>2186.0</td>\n",
       "      <td>-0.01</td>\n",
       "      <td>-0.02</td>\n",
       "      <td>-0.00</td>\n",
       "      <td>1693.0</td>\n",
       "      <td>0.140</td>\n",
       "    </tr>\n",
       "    <tr>\n",
       "      <th>...</th>\n",
       "      <td>...</td>\n",
       "      <td>...</td>\n",
       "      <td>...</td>\n",
       "      <td>...</td>\n",
       "      <td>...</td>\n",
       "      <td>...</td>\n",
       "      <td>...</td>\n",
       "      <td>...</td>\n",
       "      <td>...</td>\n",
       "      <td>...</td>\n",
       "      <td>...</td>\n",
       "      <td>...</td>\n",
       "      <td>...</td>\n",
       "      <td>...</td>\n",
       "      <td>...</td>\n",
       "      <td>...</td>\n",
       "      <td>...</td>\n",
       "    </tr>\n",
       "    <tr>\n",
       "      <th>1995</th>\n",
       "      <td>UAV_ATTITUDE</td>\n",
       "      <td>76.700</td>\n",
       "      <td>-0.017250</td>\n",
       "      <td>0.006255</td>\n",
       "      <td>-2.972477</td>\n",
       "      <td>0.065866</td>\n",
       "      <td>-0.167487</td>\n",
       "      <td>-0.653368</td>\n",
       "      <td>NaN</td>\n",
       "      <td>NaN</td>\n",
       "      <td>NaN</td>\n",
       "      <td>NaN</td>\n",
       "      <td>NaN</td>\n",
       "      <td>NaN</td>\n",
       "      <td>NaN</td>\n",
       "      <td>NaN</td>\n",
       "      <td>76.700</td>\n",
       "    </tr>\n",
       "    <tr>\n",
       "      <th>1996</th>\n",
       "      <td>UAV_GLOBAL_POSITION_INT</td>\n",
       "      <td>76.731</td>\n",
       "      <td>NaN</td>\n",
       "      <td>NaN</td>\n",
       "      <td>NaN</td>\n",
       "      <td>NaN</td>\n",
       "      <td>NaN</td>\n",
       "      <td>NaN</td>\n",
       "      <td>42.724648</td>\n",
       "      <td>-84.480773</td>\n",
       "      <td>275.58</td>\n",
       "      <td>3642.0</td>\n",
       "      <td>0.56</td>\n",
       "      <td>-1.01</td>\n",
       "      <td>0.11</td>\n",
       "      <td>18863.0</td>\n",
       "      <td>76.731</td>\n",
       "    </tr>\n",
       "    <tr>\n",
       "      <th>1997</th>\n",
       "      <td>GCS_ATTITUDE</td>\n",
       "      <td>76.800</td>\n",
       "      <td>-0.121024</td>\n",
       "      <td>-0.063388</td>\n",
       "      <td>-0.967107</td>\n",
       "      <td>0.095547</td>\n",
       "      <td>-0.017044</td>\n",
       "      <td>0.906274</td>\n",
       "      <td>NaN</td>\n",
       "      <td>NaN</td>\n",
       "      <td>NaN</td>\n",
       "      <td>NaN</td>\n",
       "      <td>NaN</td>\n",
       "      <td>NaN</td>\n",
       "      <td>NaN</td>\n",
       "      <td>NaN</td>\n",
       "      <td>76.800</td>\n",
       "    </tr>\n",
       "    <tr>\n",
       "      <th>1998</th>\n",
       "      <td>UAV_ATTITUDE</td>\n",
       "      <td>76.800</td>\n",
       "      <td>-0.000866</td>\n",
       "      <td>0.011652</td>\n",
       "      <td>-3.028455</td>\n",
       "      <td>0.158962</td>\n",
       "      <td>0.122843</td>\n",
       "      <td>-0.492457</td>\n",
       "      <td>NaN</td>\n",
       "      <td>NaN</td>\n",
       "      <td>NaN</td>\n",
       "      <td>NaN</td>\n",
       "      <td>NaN</td>\n",
       "      <td>NaN</td>\n",
       "      <td>NaN</td>\n",
       "      <td>NaN</td>\n",
       "      <td>76.800</td>\n",
       "    </tr>\n",
       "    <tr>\n",
       "      <th>1999</th>\n",
       "      <td>GCS_GLOBAL_POSITION_INT</td>\n",
       "      <td>76.861</td>\n",
       "      <td>NaN</td>\n",
       "      <td>NaN</td>\n",
       "      <td>NaN</td>\n",
       "      <td>NaN</td>\n",
       "      <td>NaN</td>\n",
       "      <td>NaN</td>\n",
       "      <td>42.724600</td>\n",
       "      <td>-84.480813</td>\n",
       "      <td>275.00</td>\n",
       "      <td>3068.0</td>\n",
       "      <td>-0.34</td>\n",
       "      <td>0.27</td>\n",
       "      <td>-0.13</td>\n",
       "      <td>30783.0</td>\n",
       "      <td>76.861</td>\n",
       "    </tr>\n",
       "  </tbody>\n",
       "</table>\n",
       "<p>2000 rows × 17 columns</p>\n",
       "</div>"
      ],
      "text/plain": [
       "                mavpackettype  time_boot_ms      roll     pitch       yaw  \\\n",
       "0                GCS_ATTITUDE         0.000 -0.023365  0.123523 -0.122601   \n",
       "1                UAV_ATTITUDE         0.000  0.020393  0.012543  0.295718   \n",
       "2                GCS_ATTITUDE         0.100 -0.023374  0.123501 -0.122614   \n",
       "3                UAV_ATTITUDE         0.100  0.020423  0.012552  0.295651   \n",
       "4     UAV_GLOBAL_POSITION_INT         0.140       NaN       NaN       NaN   \n",
       "...                       ...           ...       ...       ...       ...   \n",
       "1995             UAV_ATTITUDE        76.700 -0.017250  0.006255 -2.972477   \n",
       "1996  UAV_GLOBAL_POSITION_INT        76.731       NaN       NaN       NaN   \n",
       "1997             GCS_ATTITUDE        76.800 -0.121024 -0.063388 -0.967107   \n",
       "1998             UAV_ATTITUDE        76.800 -0.000866  0.011652 -3.028455   \n",
       "1999  GCS_GLOBAL_POSITION_INT        76.861       NaN       NaN       NaN   \n",
       "\n",
       "      rollspeed  pitchspeed  yawspeed        lat        lon     alt  \\\n",
       "0      0.000993    0.000395  0.000471        NaN        NaN     NaN   \n",
       "1     -0.001011   -0.001186 -0.000113        NaN        NaN     NaN   \n",
       "2     -0.000150    0.000763  0.000189        NaN        NaN     NaN   \n",
       "3     -0.000149    0.000036 -0.000859        NaN        NaN     NaN   \n",
       "4           NaN         NaN       NaN  42.724676 -84.480802  274.12   \n",
       "...         ...         ...       ...        ...        ...     ...   \n",
       "1995   0.065866   -0.167487 -0.653368        NaN        NaN     NaN   \n",
       "1996        NaN         NaN       NaN  42.724648 -84.480773  275.58   \n",
       "1997   0.095547   -0.017044  0.906274        NaN        NaN     NaN   \n",
       "1998   0.158962    0.122843 -0.492457        NaN        NaN     NaN   \n",
       "1999        NaN         NaN       NaN  42.724600 -84.480813  275.00   \n",
       "\n",
       "      relative_alt    vx    vy    vz      hdg  time_s  \n",
       "0              NaN   NaN   NaN   NaN      NaN   0.000  \n",
       "1              NaN   NaN   NaN   NaN      NaN   0.000  \n",
       "2              NaN   NaN   NaN   NaN      NaN   0.100  \n",
       "3              NaN   NaN   NaN   NaN      NaN   0.100  \n",
       "4           2186.0 -0.01 -0.02 -0.00   1693.0   0.140  \n",
       "...            ...   ...   ...   ...      ...     ...  \n",
       "1995           NaN   NaN   NaN   NaN      NaN  76.700  \n",
       "1996        3642.0  0.56 -1.01  0.11  18863.0  76.731  \n",
       "1997           NaN   NaN   NaN   NaN      NaN  76.800  \n",
       "1998           NaN   NaN   NaN   NaN      NaN  76.800  \n",
       "1999        3068.0 -0.34  0.27 -0.13  30783.0  76.861  \n",
       "\n",
       "[2000 rows x 17 columns]"
      ]
     },
     "execution_count": 4,
     "metadata": {},
     "output_type": "execute_result"
    }
   ],
   "source": [
    "df_small = df.sample(frac=1, replace=False).sort_values(by=['time_boot_ms'], ignore_index=True)\n",
    "df_small['time_boot_ms'] /= 1000 # convert ms to s\n",
    "df_small"
   ]
  },
  {
   "cell_type": "code",
   "execution_count": 5,
   "metadata": {},
   "outputs": [],
   "source": [
    "dt = 200 # time step in ms\n",
    "\n",
    "gcs_start_pos = df.query('mavpackettype == \"GCS_GLOBAL_POSITION_INT\"').iloc[0]\n",
    "ref_lat = gcs_start_pos['lat']\n",
    "ref_lon = gcs_start_pos['lon']\n",
    "ref_alt = gcs_start_pos['alt']\n",
    "\n",
    "model = Model(ref_lat, ref_lon, ref_alt)\n",
    "\n",
    "rel_x = []\n",
    "rel_y = []\n",
    "rel_z = []\n",
    "timestamp = []\n",
    "\n",
    "rows = df.iterrows()\n",
    "index, row = next(rows)\n",
    "for cur_time in np.arange(0, df.time_s.max(), dt/1000):\n",
    "    while row['time_s'] < cur_time:\n",
    "        try:\n",
    "            index, row = next(rows)\n",
    "        except StopIteration:\n",
    "            break\n",
    "        if row['mavpackettype'] == 'GCS_GLOBAL_POSITION_INT':\n",
    "            model.gcs.position.update(row['lat'], row['lon'], row['alt'], row['vx'], row['vy'], row['vz'], row['time_s'])\n",
    "        elif row['mavpackettype'] == 'UAV_GLOBAL_POSITION_INT':\n",
    "            model.uav.position.update(row['lat'], row['lon'], row['alt'], row['vx'], row['vy'], row['vz'], row['time_s'])\n",
    "        elif row['mavpackettype'] == 'GCS_ATTITUDE':\n",
    "            model.gcs.attitude.update(row['roll'], row['pitch'], row['yaw'], row['rollspeed'], row['pitchspeed'], row['yawspeed'], row['time_s'])\n",
    "        elif row['mavpackettype'] == 'UAV_ATTITUDE':\n",
    "            model.uav.attitude.update(row['roll'], row['pitch'], row['yaw'], row['rollspeed'], row['pitchspeed'], row['yawspeed'], row['time_s'])\n",
    "    rel_loc = model.relative_location(cur_time)\n",
    "    if rel_loc is not None:\n",
    "        rel_x.append(rel_loc['delta_x'])\n",
    "        rel_y.append(rel_loc['delta_y'])\n",
    "        rel_z.append(rel_loc['delta_z'])\n",
    "        timestamp.append(cur_time)\n",
    "\n",
    "\n",
    "rel_df = pd.DataFrame({'delta_x': rel_x, 'delta_y': rel_y, 'delta_z': rel_z, 'timestamp': timestamp})"
   ]
  },
  {
   "cell_type": "code",
   "execution_count": 6,
   "metadata": {},
   "outputs": [
    {
     "data": {
      "text/plain": [
       "Text(0, 0.5, 'Distance (m)')"
      ]
     },
     "execution_count": 6,
     "metadata": {},
     "output_type": "execute_result"
    },
    {
     "data": {
      "image/png": "[encoded data removed]",
      "text/plain": [
       "<Figure size 640x480 with 1 Axes>"
      ]
     },
     "metadata": {},
     "output_type": "display_data"
    }
   ],
   "source": [
    "import matplotlib.pyplot as plt\n",
    "\n",
    "plt.plot(rel_df['timestamp'], rel_df['delta_x'], label='delta_x')\n",
    "plt.plot(rel_df['timestamp'], rel_df['delta_y'], label='delta_y')\n",
    "plt.plot(rel_df['timestamp'], rel_df['delta_z'], label='delta_z')\n",
    "plt.legend()\n",
    "plt.title('Relative Location')\n",
    "plt.xlabel('Time (s)')\n",
    "plt.ylabel('Distance (m)')"
   ]
  },
  {
   "cell_type": "code",
   "execution_count": 7,
   "metadata": {},
   "outputs": [
    {
     "data": {
      "text/plain": [
       "Text(0.5, 1.0, 'Relative location in x-y plane')"
      ]
     },
     "execution_count": 7,
     "metadata": {},
     "output_type": "execute_result"
    },
    {
     "data": {
      "image/png": "[encoded data removed]",
      "text/plain": [
       "<Figure size 640x480 with 1 Axes>"
      ]
     },
     "metadata": {},
     "output_type": "display_data"
    }
   ],
   "source": [
    "plt.plot(rel_df['delta_x'], rel_df['delta_y'])\n",
    "_=plt.axis('scaled')\n",
    "plt.title('Relative location in x-y plane')"
   ]
  },
  {
   "cell_type": "code",
   "execution_count": 8,
   "metadata": {},
   "outputs": [
    {
     "data": {
      "application/vnd.plotly.v1+json": {
       "config": {
        "plotlyServerURL": "https://plot.ly"
       },
       "data": [
        {
         "hovertemplate": "delta_x=%{x}<br>delta_y=%{y}<br>delta_z=%{z}<extra></extra>",
         "legendgroup": "",
         "line": {
          "color": "#636efa",
          "dash": "solid"
         },
         "marker": {
          "symbol": "circle"
         },
         "mode": "lines",
         "name": "",
         "scene": "scene",
         "showlegend": false,
         "type": "scatter3d",
         "x": [
          7.243643392837388,
          7.24075264477599,
          7.23675264477599,
          7.239392668483093,
          7.225671146197134,
          7.213480397031467,
          7.2094803970314665,
          7.214090396996327,
          7.215420430777173,
          7.205229692726247,
          7.1996789423812695,
          7.1996789423812695,
          7.18951818321592,
          7.190848183135548,
          7.172466649227296,
          7.172466683168195,
          7.168466683168195,
          7.1813274656822585,
          7.182637465611142,
          7.17244670472001,
          7.183297477090269,
          7.175106737698401,
          7.168915987200162,
          7.167585986908592,
          7.161395238854116,
          7.164236011452676,
          7.149214502107956,
          7.138353774312788,
          7.132163004641334,
          7.1341530387485435,
          7.132511494940093,
          7.0938084731589806,
          7.120814853687796,
          7.097664854155578,
          7.223843681497672,
          7.241619867579557,
          7.075937239308438,
          7.239434528558996,
          7.075956080056927,
          6.84223558220323,
          6.97223558220323,
          6.6368876227380404,
          6.780957238420056,
          6.363301818598953,
          6.410495984641857,
          6.214495984641857,
          6.460940829094191,
          6.643036151460384,
          6.658765378785869,
          7.009767272150914,
          7.011767272150913,
          7.268179843097182,
          7.345717840306201,
          7.531625519122133,
          7.958433453123763,
          7.982433453123763,
          8.359688291017163,
          8.475419282405861,
          8.679285415896898,
          8.881818520611255,
          8.947818520611255,
          9.13575782888892,
          9.23589330755787,
          9.383386350127324,
          9.435273445114492,
          9.63327344511449,
          9.727573539040522,
          10.038855812201001,
          9.994592659735732,
          9.989414153016074,
          10.145414153016075,
          10.230182691798984,
          10.595825204785763,
          10.540269008533354,
          10.713675515311097,
          10.783675515311097,
          11.000361357707241,
          11.449873755056837,
          11.259845997552116,
          11.694027021925669,
          11.956041992344922,
          11.763651195904337,
          12.187647166271878,
          12.051554111031809,
          12.424236762233686,
          12.811095798160778,
          12.58573579837892,
          12.889945801227027,
          12.709157370657923,
          12.899313534394752,
          13.271276178783491,
          13.059656977592736,
          13.1943197352079,
          13.000392844334911,
          13.305640035099911,
          13.366298645825845,
          13.179520211458376,
          13.241467331732586,
          12.9953450314082,
          13.173541282518084,
          13.250309184149609,
          12.994566871609702,
          13.0644333688951,
          12.800031845991656,
          13.024031452356654,
          13.135902647707203,
          12.831905712174304,
          12.91300289638537,
          12.535330561570575,
          12.674833104974047,
          12.857248018856888,
          12.548633408696142,
          12.664834400873694,
          12.376519036250562,
          12.534333250349787,
          12.672934333711204,
          12.268149698084956,
          12.409277481475502,
          11.940215888432794,
          11.993276084768073,
          12.17881563707383,
          11.81845792350265,
          12.03086574078517,
          11.639716450154733,
          11.652568184189086,
          11.91687845656578,
          11.518780699795615,
          11.740554661984897,
          11.306146877977955,
          11.320549286181274,
          11.52708400748226,
          11.235296269534363,
          11.432360177623401,
          11.090999326053819,
          11.142593811779875,
          11.383015371733528,
          11.133218400341189,
          11.30027601521991,
          10.967332889892742,
          11.02591129225738,
          11.096952873327224,
          10.804642116922377,
          10.83352300402749,
          10.580133784570567,
          10.71522469781787,
          10.7200232790681,
          10.48525719261229,
          10.476302658762243,
          10.356475787937631,
          10.540531806485703,
          10.521646254544944,
          10.38921703201442,
          10.36801822482496,
          10.214628239519635,
          10.168515918147499,
          9.95286962288301,
          9.915845808929097,
          9.709557904660583,
          9.810752565042103,
          9.577759673389835,
          9.641311936602035,
          9.304081882074254,
          9.020103223417976,
          9.083077754824526,
          8.848056069945287,
          8.977731383411875,
          8.539215643644582,
          8.30920150297007,
          8.405006787452459,
          8.300894448703005,
          8.321432772284332,
          7.920399695286996,
          7.92455298501425,
          7.9641705651960875,
          8.010060944713263,
          7.997178507235404,
          7.767867333975805,
          7.818158657135232,
          7.7697200509803785,
          7.744391238889442,
          7.87896663711137,
          7.851404782433782,
          7.643571990001698,
          7.886785146635916,
          7.686740623594256,
          7.889450668650262,
          7.845830789751053,
          7.627266985764573,
          7.908940806583468,
          7.635160619162488,
          7.549842160410026,
          7.899851442546666,
          7.710064608061543,
          7.86006460806154,
          7.381654490717444,
          7.104781473641728,
          7.45856994571856,
          7.135534485859237,
          7.373534485859232,
          6.914992176142921,
          6.573639161344939,
          6.783272930546068,
          6.370493659593002,
          6.722493659592995,
          6.5443223572076885,
          6.404338710421632,
          6.625065614018724,
          6.541799690174695,
          6.901799690174688,
          7.09989005662065,
          7.01784330822125,
          7.032195492382651,
          7.104672051153019,
          7.382672051153013,
          7.8008072098551375,
          7.8142789914171145,
          7.799027326406254,
          7.711662246389316,
          7.93766224638931,
          8.025266928430007,
          7.772084731102504,
          8.117251797044418,
          7.97857815144835,
          8.134578151448345,
          7.704394372380994,
          7.386634057206706,
          7.681284944325974,
          7.39112469982603,
          7.499124699826028,
          7.003125942522331,
          6.741497369114255,
          7.029076650060279,
          6.797188128744279,
          6.851188128744276,
          6.413822461599027,
          6.4350259860730326,
          6.869934590180199,
          6.796348000994804,
          6.998348000994799,
          6.866802836317353,
          6.847722862697564,
          6.934938997860343,
          6.773873661315029,
          6.941873661315025,
          6.903539195321102,
          6.999524700588213,
          7.124659376913521,
          7.231595036942645,
          7.339595036942643,
          7.378854347824534,
          7.439895186890701,
          7.472345952747706,
          7.340644957747079,
          7.618644957747073,
          7.6503578045608895,
          7.493325514078078,
          7.632219270351349,
          7.253398017031665,
          7.587398017031657,
          7.307558053388324,
          6.736603623556822,
          6.7647773749905245,
          6.257075815513799,
          6.491075815513794,
          6.171938256463915,
          5.644122301010153,
          5.551642990439206,
          5.097767033259594,
          5.149767033259594,
          4.8193605624634905,
          4.548113409755048,
          4.546785733972891,
          4.419296358993104,
          4.245296358993107,
          3.9664162053265652,
          3.7591767968361687,
          3.5891368267451442,
          3.459478253930885,
          3.22947825393089,
          2.9660580710247837,
          2.887187142074553,
          2.7889018061160407,
          2.718340935501339,
          2.4903409355013437,
          2.2589830240600612,
          2.057759680603181,
          1.7798096755965993,
          1.5332824840749923,
          1.3512824840749964,
          1.0758359399441186,
          0.8044386877266856,
          0.6359571403251802,
          0.24032288789551082,
          0.1183228878955136,
          -0.2074082908266801,
          -0.5405864672300691,
          -0.7423403259667918,
          -1.022044735705966,
          -1.1680447357059633,
          -1.3077899159713384,
          -1.4607221275075601,
          -1.5830906210004208,
          -1.5309536230165355,
          -1.5909536230165346,
          -1.5906320359836394,
          -1.3914835232979796,
          -1.3980658014898548,
          -1.0929118794733368,
          -1.2469118794733336,
          -0.9757425199428469,
          -0.6050754789461052,
          -0.8156393803830158,
          -0.5526169172418958,
          -0.7506169172418917,
          -0.44747593905860716,
          -0.30694267602089376,
          -0.6669396258384461,
          -0.45454013106649516,
          -0.7745401310664883,
          -0.5856914278782623,
          -0.9083713540437115,
          -0.7426963906258148,
          -0.6280168899420113,
          -0.8875637656163073,
          -0.7369619682355024,
          -1.0699219868835113,
          -0.9781602169909256,
          -0.8353507502407265,
          -1.2345145768658035,
          -1.0279558339009673,
          -1.3732104599962849,
          -1.1573285937720312,
          -0.8021405545790898,
          -1.2482714127042875,
          -0.753833997692551,
          -1.1673340816965956,
          -0.904401310929388,
          -0.39393932640359797,
          -0.639971721189335,
          -0.02052672554936219,
          -0.15333608128651655,
          0.12799321843838207,
          0.5770057063818932,
          0.5357602418310927,
          1.0288172480391085,
          0.9659062858076215,
          1.1048537511050016,
          1.3967713873001681,
          1.5538451058734077,
          1.8929141817378703,
          2.059882506254673,
          2.231226127803775,
          2.4273612120521264,
          2.683899525926117,
          2.8571422741750183,
          3.0983329076926838,
          3.300831106053053,
          3.3529306546639335,
          3.847746228662264,
          3.886821235222082,
          4.24872565297861,
          4.607056644202101,
          4.5902053733290025,
          4.949751679566179,
          5.02355588842043,
          4.938673656820691,
          5.254763828791736,
          5.1030586252519345,
          5.507681117371953,
          5.4917283953015685,
          5.281144698298094,
          5.598553349594927,
          5.277590474995357,
          5.564763658403064,
          5.172617722860045,
          4.894580287092527,
          5.0079434293546585,
          4.66973996003505,
          4.753797668118313,
          4.250632782220337,
          3.8731856979820707,
          3.8517703127348826,
          3.277820794894815
         ],
         "y": [
          9.059923859691343,
          9.029256202724296,
          9.025256202724297,
          8.983479328043606,
          8.964610866735661,
          8.954161641820777,
          8.948161641820777,
          8.92523320829744,
          8.905714782171787,
          8.897245571810108,
          8.876977132778649,
          8.874977132778648,
          8.82075101558167,
          8.785423368143631,
          8.786753337031385,
          8.721448016595955,
          8.719448016595955,
          8.687440346341072,
          8.66322191491202,
          8.66519190628194,
          8.642973472469905,
          8.630544227879543,
          8.620785002367853,
          8.59656656913755,
          8.575658116624668,
          8.57767811546161,
          8.530561236568635,
          8.506573581174358,
          8.48478435079263,
          8.45811670264315,
          8.447456690357214,
          8.492382802916259,
          8.53491222430479,
          8.703559702630349,
          8.74078935802181,
          8.970689013172505,
          9.35620294283368,
          9.343486414666975,
          9.625883718318876,
          9.740184161815042,
          9.684184161815043,
          9.6621578545627,
          9.361764277989632,
          9.529438628575116,
          9.221814399105334,
          9.203814399105335,
          8.860011932371599,
          8.778583666689329,
          8.72129774927161,
          8.656917916046408,
          8.780917916046407,
          8.871218020134293,
          8.965521131619155,
          8.97803834649977,
          8.840437198829095,
          9.086437198829096,
          8.959885225027042,
          9.06287766702365,
          9.130568619618016,
          9.101121911777161,
          9.27912191177716,
          9.269022131175834,
          9.364343670481409,
          9.587593667136444,
          9.809843051913399,
          9.947843051913399,
          10.237977043212432,
          10.310227980328312,
          10.638421706796187,
          10.812474124302145,
          10.924474124302145,
          10.992294302894763,
          10.874750887263849,
          11.210384613844296,
          11.166408936955264,
          11.356408936955264,
          11.219069499198728,
          10.941281221725554,
          11.248373379201139,
          10.899259012265658,
          10.635421467507014,
          10.892524423875088,
          10.517717782145457,
          10.731780757797367,
          10.433171548170407,
          9.969953159675153,
          9.985156297898692,
          9.544435709868377,
          9.500074321127812,
          9.084402850738988,
          8.344829248489262,
          8.200108637243456,
          7.703895488361532,
          7.5999917548547185,
          6.962594024788579,
          6.566885240629217,
          6.390553067459869,
          5.945486585926776,
          5.795684404932674,
          5.236725773536701,
          4.770879327342091,
          4.643276364678343,
          4.145322251475588,
          3.9946424180987035,
          3.329630927141201,
          2.764529259054168,
          2.629978630177097,
          2.0966337327031135,
          1.9970123121278376,
          1.3707592587716673,
          0.8239245349668637,
          0.719393905353643,
          0.19977830886805137,
          0.04179158954998341,
          -0.5919522593576328,
          -1.13931785509532,
          -1.198171636416344,
          -1.752629646720921,
          -1.6889889229059525,
          -2.0865769147222184,
          -2.623793338509411,
          -2.5438064841657058,
          -3.0558752805485883,
          -2.8859431320869975,
          -3.152162921378493,
          -3.6379509106694474,
          -3.4206750108771553,
          -3.868245481215733,
          -3.6353403750614444,
          -3.9280302791768045,
          -4.305641532068282,
          -4.212360133285832,
          -4.533413763097262,
          -4.458243940063319,
          -4.70638689024151,
          -5.020361110253871,
          -4.924121267864625,
          -5.237756345197447,
          -5.26350870372161,
          -5.707265236997015,
          -6.14923630916068,
          -6.276475404941074,
          -6.733016532814066,
          -6.855596406653616,
          -7.42784431905333,
          -7.900683145870466,
          -8.081279094411842,
          -8.561806414590038,
          -8.682607797956216,
          -9.239769600363097,
          -9.531243155211136,
          -9.695108465957343,
          -9.953206784091018,
          -10.134812097354192,
          -10.488925916225762,
          -10.5566515972308,
          -10.7847884450422,
          -10.754086518916827,
          -11.013237240017052,
          -10.841684749735348,
          -11.01432334210203,
          -10.66365202450225,
          -10.334988938725662,
          -10.390874562856762,
          -10.036065225638641,
          -10.046980840576856,
          -9.504231655891603,
          -9.100762226484065,
          -9.011767877896842,
          -8.61788145908663,
          -8.40592792410541,
          -7.748007013111834,
          -7.470522695600538,
          -7.206073704172511,
          -6.950878519552873,
          -6.704434046086159,
          -6.344109560191764,
          -6.31258893397547,
          -6.02194215849317,
          -5.789978586625104,
          -5.6774623559534225,
          -5.56162389667688,
          -5.305000351326833,
          -5.46732240452683,
          -5.164551179186736,
          -5.278747160911487,
          -5.011314979098717,
          -4.593538469665775,
          -4.645241473235192,
          -4.106928966146529,
          -3.752175564463728,
          -3.8894885344672674,
          -3.6009197517918103,
          -3.666919751791809,
          -3.207119015680412,
          -2.8582466647252236,
          -3.015388179612215,
          -2.5445990333453867,
          -2.6405990333453846,
          -2.0930230037245887,
          -1.5747662391350037,
          -1.5803110605223107,
          -0.9580696292128527,
          -1.0100696292128515,
          -0.534862467119727,
          -0.015878383010917818,
          0.10529071397672216,
          0.6310134159052436,
          0.7410134159052414,
          1.0399687194440752,
          1.4819691414261824,
          1.8515473710513826,
          2.228055030518234,
          2.41805503051823,
          2.4066823316670343,
          2.709121527591593,
          3.095011282399707,
          3.399004218491911,
          3.491004218491909,
          3.6691063398070995,
          4.108459737967328,
          3.974730728450366,
          4.194232631504141,
          4.172232631504142,
          4.581095020551604,
          4.75502604586009,
          4.395260127487811,
          4.576590305496923,
          4.500590305496925,
          4.909414977647016,
          5.144993639643796,
          4.805847606823239,
          4.922994056312101,
          4.840994056312102,
          5.363484937659319,
          5.643396900501058,
          5.423601679417692,
          5.752850568619744,
          5.760850568619745,
          6.24466253498795,
          6.470998479640044,
          6.510254664414778,
          6.772974423290487,
          6.852974423290485,
          7.031551194946318,
          7.19215661601655,
          7.31144440758404,
          7.306137732512878,
          7.442137732512875,
          7.578685360690889,
          7.719788422200399,
          7.847663790001188,
          8.180355771174646,
          8.226355771174646,
          8.507124624026222,
          9.042908738896916,
          9.229036969552405,
          9.652538678180242,
          9.498538678180246,
          9.615768989847403,
          9.999993023143837,
          9.994153592730296,
          10.430019748487082,
          10.240019748487084,
          10.494739198003298,
          10.85564386599524,
          10.733915970468031,
          11.005736919374272,
          10.799736919374276,
          10.890162053115121,
          10.907372595282839,
          10.728069556156235,
          10.600023285708554,
          10.476023285708555,
          10.454480075521458,
          10.16456157582263,
          9.874458622285871,
          9.646881058665915,
          9.488881058665918,
          9.424545644680272,
          9.245415896648199,
          8.979562188765085,
          8.68878945309191,
          8.534789453091914,
          8.24575490433738,
          7.906414232462509,
          7.712798072538736,
          7.4026281338893885,
          7.200628133889394,
          7.03440495410665,
          6.938644181635689,
          6.728133389333877,
          6.563724851003088,
          6.327724851003094,
          6.1763148654531745,
          6.115460287413128,
          5.923320258702029,
          5.787579527187767,
          5.5875795271877715,
          5.445598127211047,
          5.377922023661544,
          5.317999687531178,
          5.219098246509837,
          5.269098246509836,
          5.322585986823445,
          5.1920007775199535,
          5.1835508321186925,
          4.920954202433247,
          5.116954202433243,
          4.7915746109478,
          4.38933575176117,
          4.530947974915427,
          4.099913029085507,
          4.193913029085505,
          3.724721191743688,
          3.220461654015007,
          3.227354733981682,
          2.7374298817522456,
          2.7314298817522458,
          2.215998829672482,
          2.1069912685841827,
          1.5300718660399124,
          1.0252738948774178,
          0.9621701005767462,
          0.4620213600466063,
          0.5042712871601418,
          0.11748857455363781,
          -0.3714217386526107,
          -0.36580949910628796,
          -0.8650905257672622,
          -0.7531075128309357,
          -1.1083501683049732,
          -1.6505834609681187,
          -1.3995875489514844,
          -1.9318199930037787,
          -1.6512548632768604,
          -1.9206952451063815,
          -2.359159341497702,
          -1.9475457204770408,
          -2.2322691519857765,
          -1.7940202012653335,
          -1.6375179083888678,
          -1.6710577538213118,
          -1.300927206552997,
          -1.286630873441324,
          -0.8569850833156413,
          -0.5431660573095205,
          -0.3180368497807121,
          -0.0034969892336693675,
          0.276892266147462,
          0.5031345327781136,
          0.6735075734172227,
          1.0345628929547608,
          1.265922812364388,
          1.5860212355191825,
          1.7771935336723919,
          1.9197297618510183,
          2.3603042424557366,
          2.3160599615706885,
          2.6935476531872506,
          2.6793433678151075,
          2.5435467568267516,
          2.9252296878996495,
          2.772793041802705,
          2.8732484338433686,
          3.2125897711120452,
          3.053956979970377,
          3.3649890799725086,
          3.1684578712293816,
          3.346393172561414,
          3.654286693165335,
          3.4657338858947906,
          3.754737270679481,
          3.568158163169245,
          3.892898304119031,
          4.186071629691593,
          4.09856852789712,
          4.33777490461282,
          4.286476364450971,
          4.66406793331256,
          4.900581929076707,
          4.811440227533835,
          5.256990135134844
         ],
         "z": [
          -0.3100105682710028,
          -0.30007054287555945,
          -0.29807054287555945,
          -0.28939051698550483,
          -0.29072048248314064,
          -0.28872045771929633,
          -0.28672045771929633,
          -0.29804045659771183,
          -0.2893704321843373,
          -0.27737040752722825,
          -0.2887203825969768,
          -0.28672038259697685,
          -0.3080403419928439,
          -0.31001033982049936,
          -0.3200103217843479,
          -0.33001026423583,
          -0.33001026423583,
          -0.3400102392825306,
          -0.33935023850441054,
          -0.3373502291601332,
          -0.3386902285471629,
          -0.3513301789130188,
          -0.347980154875645,
          -0.3413101529684111,
          -0.348000113441057,
          -0.394830112733217,
          -0.5213300724398539,
          -0.632000017727391,
          -0.8507400170332923,
          -1.0267499715378468,
          -1.0922699720218692,
          -1.0346299398039356,
          -0.88808991205784,
          -0.7547699169330534,
          -0.5108099132832603,
          -0.28000990793789926,
          0.04849007726529786,
          0.19873017469432874,
          0.20773021021174543,
          0.15179061135041316,
          0.18379061135041297,
          0.11877132526736589,
          0.07577192613568151,
          0.03358197788812389,
          0.013442551544490144,
          0.023442551544490153,
          0.07099275983647535,
          0.07179261327404196,
          0.07207256627569447,
          -0.008447982470208615,
          -0.04044798247020853,
          -0.0005886859203340089,
          -0.008449337595131334,
          -0.08188937121122108,
          -0.06777013466060589,
          -0.033770134660605966,
          -0.10717088571760747,
          -0.08622167127101332,
          -0.0878516778857571,
          -0.1604024857245544,
          -0.1504024857245544,
          -0.23324332144303161,
          -0.23240412044325698,
          -0.18376411737294207,
          -0.14865490672257597,
          -0.10265490672257616,
          -0.10035581937117966,
          -0.13194683198133061,
          -0.0862568136632269,
          -0.12200763419964933,
          -0.17000763419964915,
          -0.17377831675467126,
          -0.21168903589125376,
          -0.2426390176950372,
          -0.21741960504933083,
          -0.2574196050493307,
          -0.23480008781827505,
          -0.12322050664876494,
          -0.17258047740147386,
          -0.02602079889777298,
          0.05789901845426271,
          0.02737903597617919,
          0.14583895145122128,
          0.10473895303265068,
          0.10170886556173664,
          0.09549886033543964,
          0.011538851651298532,
          0.08681895223518954,
          0.0847789285466205,
          0.12308907466806085,
          0.16921941386404837,
          0.16161939833383132,
          0.235939953381047,
          0.24641993555131347,
          0.2068303846562244,
          0.20776087422611111,
          0.16645086252281416,
          0.18440138993707034,
          0.19617138863021732,
          0.10814181787524191,
          0.11952225404384609,
          0.050732257874516296,
          0.08938271631419226,
          0.1010627173126909,
          0.08268302615400458,
          0.1092233116074216,
          0.0782233321790865,
          0.09236364292195443,
          0.14636368006510048,
          0.092463844447921,
          0.10198389494926363,
          0.09048392455402132,
          0.07270402603487092,
          0.08450406730967308,
          0.08682414426487861,
          0.10540417164493576,
          0.12700423332149924,
          0.11767429627591985,
          0.14555436915004294,
          0.19148438822325753,
          0.248064346339679,
          0.30777436774116274,
          0.3212143371288714,
          0.33837435197952825,
          0.4144642928628258,
          0.4817441411844967,
          0.5837341441480576,
          0.6284541206286058,
          0.6460741312586153,
          0.7257941039478427,
          0.7858840121403332,
          0.7969439931028339,
          0.8294139156183309,
          0.7669739137224213,
          0.7298137702823683,
          0.7411034760734498,
          0.752323463662351,
          0.7291032496510303,
          0.6693232621583215,
          0.6655430557600226,
          0.6365726565185013,
          0.6541627102481414,
          0.6586823007806142,
          0.6557523483356764,
          0.7247719790994682,
          0.7409715295618081,
          0.7382315766603043,
          0.73467113538177,
          0.7198711335971871,
          0.6393107534839102,
          0.6080003858926738,
          0.5611303909368093,
          0.5644801648875539,
          0.5742401737598888,
          0.4498402792525289,
          0.4232405363576155,
          0.4146805136556482,
          0.4285708352973996,
          0.48603076525628475,
          0.42619136755127385,
          0.4408913367365652,
          0.4711620505802292,
          0.44122292100767013,
          0.43802287811148255,
          0.36270367623049626,
          0.2957036390314922,
          0.21686445139159471,
          0.09166527958353576,
          0.1375052989131178,
          0.10316596383576582,
          0.09306602235470818,
          0.16410661317914932,
          0.11624700936339094,
          0.14447708401508308,
          0.11197732406712513,
          0.09894739287820165,
          0.1346975186238819,
          0.14398761628891776,
          0.11104772718412836,
          0.17659791877146613,
          0.21586793616116284,
          0.16670807467232152,
          0.17650828782713734,
          0.12862831198617397,
          0.10974855853812504,
          0.14546861438246883,
          -0.033491163888023756,
          -0.043370939370693584,
          -0.1026108970215518,
          -0.1530105562328481,
          -0.18511026083635618,
          -0.20807025179181693,
          -0.13912991620423854,
          -0.13712991620423853,
          -0.19900936696670812,
          -0.20342876031815926,
          -0.24913881675933403,
          -0.27224830622673024,
          -0.28424830622673003,
          -0.361307656955254,
          -0.305137163998751,
          -0.25704719586440095,
          -0.3015268425217714,
          -0.321526842521771,
          -0.35758662682870157,
          -0.3540066438897558,
          -0.3003966788759662,
          -0.2795069138879873,
          -0.2895069138879871,
          -0.2438072813766956,
          -0.25738761887901984,
          -0.1978075498891123,
          -0.1602480931158059,
          -0.2262480931158044,
          -0.20696877481362153,
          -0.23051930392662512,
          -0.18067920007341365,
          -0.0357795785717947,
          -0.059779578571794056,
          -0.05177000670566567,
          -0.012130156885741927,
          -0.05629023828998592,
          0.02418965551775676,
          0.032189655517756544,
          0.003209712815317678,
          0.07450993592642052,
          0.010519903136868791,
          -0.0019097426586545119,
          0.026090257341344847,
          -0.0232693571036775,
          -0.013729027077975964,
          -0.07214908745366833,
          -0.06704875728736237,
          -0.07504875728736216,
          -0.0951785306162074,
          -0.09050871226791424,
          -0.05011881308231003,
          -0.10490911309115525,
          -0.1309091130911546,
          -0.1169495614989744,
          -0.13678020941276392,
          -0.03929013819783078,
          -0.04833068138884511,
          -0.08433068138884448,
          -0.08851131902245313,
          -0.07785202768731869,
          -0.008071993782374332,
          -0.010452677579287917,
          -0.04845267757928706,
          -0.04553343765039819,
          -0.0057241774202851925,
          0.010745952551246996,
          -0.004854837773383913,
          -0.008854837773383806,
          -0.07065572788828689,
          0.05051359775350017,
          0.031143631592836396,
          0.0815033343270547,
          0.12750333432705374,
          0.1721835062228122,
          0.2819838672413367,
          0.31383391086698365,
          0.4051441641531831,
          0.44114416415318225,
          0.465424419834371,
          0.5470048928152951,
          0.6063449712277016,
          0.6002054585260613,
          0.5982054585260614,
          0.6674060228383056,
          0.6542267790752737,
          0.650526687582633,
          0.5858674233678323,
          0.5738674233678325,
          0.612278255216125,
          0.5602091097454248,
          0.5239690995757779,
          0.5261598652430839,
          0.5161598652430841,
          0.6482605692761432,
          0.7028211724107255,
          0.6748111328669109,
          0.7653518239892417,
          0.7953518239892411,
          0.769462636848496,
          0.7333734637813483,
          0.7515935363820357,
          0.7487743579056252,
          0.8107743579056238,
          0.7481250102274167,
          0.7779656230277829,
          0.7918356353016147,
          0.7755963392163527,
          0.8355963392163515,
          0.8014169631319499,
          0.8575274722926839,
          0.9060675025586191,
          0.8597179979676003,
          0.8957179979675994,
          0.8683283932555105,
          0.8285687130525001,
          0.8300287015944929,
          0.7692388462390484,
          0.7692388462390485,
          0.7220989814650678,
          0.6452289249846233,
          0.6681688675098728,
          0.5885188652564959,
          0.6005188652564957,
          0.5671189625609474,
          0.4800091054031337,
          0.4618590640758693,
          0.3991892268060071,
          0.37318922680600775,
          0.3693693779222893,
          0.2684295588823349,
          0.25960960751578877,
          0.24753978773080343,
          0.24353978773080365,
          0.23699987846758908,
          0.2879299523646601,
          0.224360114583795,
          0.24213022548337237,
          0.30313028392049035,
          0.26125034354526466,
          0.3058804232967731,
          0.3289605340515125,
          0.32940055067227414,
          0.43408067001611095,
          0.3402205945908314,
          0.32308072404986476,
          0.4426406919564919,
          0.4088204940034792,
          0.4451606832562922,
          0.4428403788586378,
          0.5026005695446196,
          0.6256804008386717,
          0.5990400403602427,
          0.6213401657189409,
          0.6736097961907067,
          0.7043998937772886,
          0.7237996246548501,
          0.7689993195407078,
          0.7928293854193367,
          0.8874690169087673,
          0.8870591501354161,
          0.8050689027440612,
          0.9166386179981226,
          0.8895985947140469,
          0.9181382584134474,
          0.8440481837265303,
          0.7064178004342334,
          0.763637467502539,
          0.6650774046292071,
          0.5774770749543162,
          0.44015698644445833,
          0.3989564930273637,
          0.3792761539442919,
          0.32789588949563275,
          0.23291544782903384,
          0.2399947499203433,
          0.26337461954508223,
          0.23003420225019466,
          0.19661412140982693,
          0.17379372858940267,
          0.1078732584807579,
          0.11033323962136021,
          0.05309279366597219,
          0.003992765000518483,
          0.10071241687332666,
          0.06999208001891821,
          0.07309210224029872,
          0.04722190860879327,
          0.045381981081143774,
          0.150872055655089,
          0.17775189704009375,
          0.18752206856300213,
          0.2719220304310016,
          0.3354721516976181,
          0.41938245129164087,
          0.5079527046761058,
          0.5156728591493217,
          0.5796532193272963
         ]
        }
       ],
       "layout": {
        "legend": {
         "tracegroupgap": 0
        },
        "margin": {
         "t": 60
        },
        "scene": {
         "domain": {
          "x": [
           0,
           1
          ],
          "y": [
           0,
           1
          ]
         },
         "xaxis": {
          "title": {
           "text": "delta_x"
          }
         },
         "yaxis": {
          "title": {
           "text": "delta_y"
          }
         },
         "zaxis": {
          "title": {
           "text": "delta_z"
          }
         }
        },
        "template": {
         "data": {
          "bar": [
           {
            "error_x": {
             "color": "#2a3f5f"
            },
            "error_y": {
             "color": "#2a3f5f"
            },
            "marker": {
             "line": {
              "color": "#E5ECF6",
              "width": 0.5
             },
             "pattern": {
              "fillmode": "overlay",
              "size": 10,
              "solidity": 0.2
             }
            },
            "type": "bar"
           }
          ],
          "barpolar": [
           {
            "marker": {
             "line": {
              "color": "#E5ECF6",
              "width": 0.5
             },
             "pattern": {
              "fillmode": "overlay",
              "size": 10,
              "solidity": 0.2
             }
            },
            "type": "barpolar"
           }
          ],
          "carpet": [
           {
            "aaxis": {
             "endlinecolor": "#2a3f5f",
             "gridcolor": "white",
             "linecolor": "white",
             "minorgridcolor": "white",
             "startlinecolor": "#2a3f5f"
            },
            "baxis": {
             "endlinecolor": "#2a3f5f",
             "gridcolor": "white",
             "linecolor": "white",
             "minorgridcolor": "white",
             "startlinecolor": "#2a3f5f"
            },
            "type": "carpet"
           }
          ],
          "choropleth": [
           {
            "colorbar": {
             "outlinewidth": 0,
             "ticks": ""
            },
            "type": "choropleth"
           }
          ],
          "contour": [
           {
            "colorbar": {
             "outlinewidth": 0,
             "ticks": ""
            },
            "colorscale": [
             [
              0,
              "#0d0887"
             ],
             [
              0.1111111111111111,
              "#46039f"
             ],
             [
              0.2222222222222222,
              "#7201a8"
             ],
             [
              0.3333333333333333,
              "#9c179e"
             ],
             [
              0.4444444444444444,
              "#bd3786"
             ],
             [
              0.5555555555555556,
              "#d8576b"
             ],
             [
              0.6666666666666666,
              "#ed7953"
             ],
             [
              0.7777777777777778,
              "#fb9f3a"
             ],
             [
              0.8888888888888888,
              "#fdca26"
             ],
             [
              1,
              "#f0f921"
             ]
            ],
            "type": "contour"
           }
          ],
          "contourcarpet": [
           {
            "colorbar": {
             "outlinewidth": 0,
             "ticks": ""
            },
            "type": "contourcarpet"
           }
          ],
          "heatmap": [
           {
            "colorbar": {
             "outlinewidth": 0,
             "ticks": ""
            },
            "colorscale": [
             [
              0,
              "#0d0887"
             ],
             [
              0.1111111111111111,
              "#46039f"
             ],
             [
              0.2222222222222222,
              "#7201a8"
             ],
             [
              0.3333333333333333,
              "#9c179e"
             ],
             [
              0.4444444444444444,
              "#bd3786"
             ],
             [
              0.5555555555555556,
              "#d8576b"
             ],
             [
              0.6666666666666666,
              "#ed7953"
             ],
             [
              0.7777777777777778,
              "#fb9f3a"
             ],
             [
              0.8888888888888888,
              "#fdca26"
             ],
             [
              1,
              "#f0f921"
             ]
            ],
            "type": "heatmap"
           }
          ],
          "heatmapgl": [
           {
            "colorbar": {
             "outlinewidth": 0,
             "ticks": ""
            },
            "colorscale": [
             [
              0,
              "#0d0887"
             ],
             [
              0.1111111111111111,
              "#46039f"
             ],
             [
              0.2222222222222222,
              "#7201a8"
             ],
             [
              0.3333333333333333,
              "#9c179e"
             ],
             [
              0.4444444444444444,
              "#bd3786"
             ],
             [
              0.5555555555555556,
              "#d8576b"
             ],
             [
              0.6666666666666666,
              "#ed7953"
             ],
             [
              0.7777777777777778,
              "#fb9f3a"
             ],
             [
              0.8888888888888888,
              "#fdca26"
             ],
             [
              1,
              "#f0f921"
             ]
            ],
            "type": "heatmapgl"
           }
          ],
          "histogram": [
           {
            "marker": {
             "pattern": {
              "fillmode": "overlay",
              "size": 10,
              "solidity": 0.2
             }
            },
            "type": "histogram"
           }
          ],
          "histogram2d": [
           {
            "colorbar": {
             "outlinewidth": 0,
             "ticks": ""
            },
            "colorscale": [
             [
              0,
              "#0d0887"
             ],
             [
              0.1111111111111111,
              "#46039f"
             ],
             [
              0.2222222222222222,
              "#7201a8"
             ],
             [
              0.3333333333333333,
              "#9c179e"
             ],
             [
              0.4444444444444444,
              "#bd3786"
             ],
             [
              0.5555555555555556,
              "#d8576b"
             ],
             [
              0.6666666666666666,
              "#ed7953"
             ],
             [
              0.7777777777777778,
              "#fb9f3a"
             ],
             [
              0.8888888888888888,
              "#fdca26"
             ],
             [
              1,
              "#f0f921"
             ]
            ],
            "type": "histogram2d"
           }
          ],
          "histogram2dcontour": [
           {
            "colorbar": {
             "outlinewidth": 0,
             "ticks": ""
            },
            "colorscale": [
             [
              0,
              "#0d0887"
             ],
             [
              0.1111111111111111,
              "#46039f"
             ],
             [
              0.2222222222222222,
              "#7201a8"
             ],
             [
              0.3333333333333333,
              "#9c179e"
             ],
             [
              0.4444444444444444,
              "#bd3786"
             ],
             [
              0.5555555555555556,
              "#d8576b"
             ],
             [
              0.6666666666666666,
              "#ed7953"
             ],
             [
              0.7777777777777778,
              "#fb9f3a"
             ],
             [
              0.8888888888888888,
              "#fdca26"
             ],
             [
              1,
              "#f0f921"
             ]
            ],
            "type": "histogram2dcontour"
           }
          ],
          "mesh3d": [
           {
            "colorbar": {
             "outlinewidth": 0,
             "ticks": ""
            },
            "type": "mesh3d"
           }
          ],
          "parcoords": [
           {
            "line": {
             "colorbar": {
              "outlinewidth": 0,
              "ticks": ""
             }
            },
            "type": "parcoords"
           }
          ],
          "pie": [
           {
            "automargin": true,
            "type": "pie"
           }
          ],
          "scatter": [
           {
            "fillpattern": {
             "fillmode": "overlay",
             "size": 10,
             "solidity": 0.2
            },
            "type": "scatter"
           }
          ],
          "scatter3d": [
           {
            "line": {
             "colorbar": {
              "outlinewidth": 0,
              "ticks": ""
             }
            },
            "marker": {
             "colorbar": {
              "outlinewidth": 0,
              "ticks": ""
             }
            },
            "type": "scatter3d"
           }
          ],
          "scattercarpet": [
           {
            "marker": {
             "colorbar": {
              "outlinewidth": 0,
              "ticks": ""
             }
            },
            "type": "scattercarpet"
           }
          ],
          "scattergeo": [
           {
            "marker": {
             "colorbar": {
              "outlinewidth": 0,
              "ticks": ""
             }
            },
            "type": "scattergeo"
           }
          ],
          "scattergl": [
           {
            "marker": {
             "colorbar": {
              "outlinewidth": 0,
              "ticks": ""
             }
            },
            "type": "scattergl"
           }
          ],
          "scattermapbox": [
           {
            "marker": {
             "colorbar": {
              "outlinewidth": 0,
              "ticks": ""
             }
            },
            "type": "scattermapbox"
           }
          ],
          "scatterpolar": [
           {
            "marker": {
             "colorbar": {
              "outlinewidth": 0,
              "ticks": ""
             }
            },
            "type": "scatterpolar"
           }
          ],
          "scatterpolargl": [
           {
            "marker": {
             "colorbar": {
              "outlinewidth": 0,
              "ticks": ""
             }
            },
            "type": "scatterpolargl"
           }
          ],
          "scatterternary": [
           {
            "marker": {
             "colorbar": {
              "outlinewidth": 0,
              "ticks": ""
             }
            },
            "type": "scatterternary"
           }
          ],
          "surface": [
           {
            "colorbar": {
             "outlinewidth": 0,
             "ticks": ""
            },
            "colorscale": [
             [
              0,
              "#0d0887"
             ],
             [
              0.1111111111111111,
              "#46039f"
             ],
             [
              0.2222222222222222,
              "#7201a8"
             ],
             [
              0.3333333333333333,
              "#9c179e"
             ],
             [
              0.4444444444444444,
              "#bd3786"
             ],
             [
              0.5555555555555556,
              "#d8576b"
             ],
             [
              0.6666666666666666,
              "#ed7953"
             ],
             [
              0.7777777777777778,
              "#fb9f3a"
             ],
             [
              0.8888888888888888,
              "#fdca26"
             ],
             [
              1,
              "#f0f921"
             ]
            ],
            "type": "surface"
           }
          ],
          "table": [
           {
            "cells": {
             "fill": {
              "color": "#EBF0F8"
             },
             "line": {
              "color": "white"
             }
            },
            "header": {
             "fill": {
              "color": "#C8D4E3"
             },
             "line": {
              "color": "white"
             }
            },
            "type": "table"
           }
          ]
         },
         "layout": {
          "annotationdefaults": {
           "arrowcolor": "#2a3f5f",
           "arrowhead": 0,
           "arrowwidth": 1
          },
          "autotypenumbers": "strict",
          "coloraxis": {
           "colorbar": {
            "outlinewidth": 0,
            "ticks": ""
           }
          },
          "colorscale": {
           "diverging": [
            [
             0,
             "#8e0152"
            ],
            [
             0.1,
             "#c51b7d"
            ],
            [
             0.2,
             "#de77ae"
            ],
            [
             0.3,
             "#f1b6da"
            ],
            [
             0.4,
             "#fde0ef"
            ],
            [
             0.5,
             "#f7f7f7"
            ],
            [
             0.6,
             "#e6f5d0"
            ],
            [
             0.7,
             "#b8e186"
            ],
            [
             0.8,
             "#7fbc41"
            ],
            [
             0.9,
             "#4d9221"
            ],
            [
             1,
             "#276419"
            ]
           ],
           "sequential": [
            [
             0,
             "#0d0887"
            ],
            [
             0.1111111111111111,
             "#46039f"
            ],
            [
             0.2222222222222222,
             "#7201a8"
            ],
            [
             0.3333333333333333,
             "#9c179e"
            ],
            [
             0.4444444444444444,
             "#bd3786"
            ],
            [
             0.5555555555555556,
             "#d8576b"
            ],
            [
             0.6666666666666666,
             "#ed7953"
            ],
            [
             0.7777777777777778,
             "#fb9f3a"
            ],
            [
             0.8888888888888888,
             "#fdca26"
            ],
            [
             1,
             "#f0f921"
            ]
           ],
           "sequentialminus": [
            [
             0,
             "#0d0887"
            ],
            [
             0.1111111111111111,
             "#46039f"
            ],
            [
             0.2222222222222222,
             "#7201a8"
            ],
            [
             0.3333333333333333,
             "#9c179e"
            ],
            [
             0.4444444444444444,
             "#bd3786"
            ],
            [
             0.5555555555555556,
             "#d8576b"
            ],
            [
             0.6666666666666666,
             "#ed7953"
            ],
            [
             0.7777777777777778,
             "#fb9f3a"
            ],
            [
             0.8888888888888888,
             "#fdca26"
            ],
            [
             1,
             "#f0f921"
            ]
           ]
          },
          "colorway": [
           "#636efa",
           "#EF553B",
           "#00cc96",
           "#ab63fa",
           "#FFA15A",
           "#19d3f3",
           "#FF6692",
           "#B6E880",
           "#FF97FF",
           "#FECB52"
          ],
          "font": {
           "color": "#2a3f5f"
          },
          "geo": {
           "bgcolor": "white",
           "lakecolor": "white",
           "landcolor": "#E5ECF6",
           "showlakes": true,
           "showland": true,
           "subunitcolor": "white"
          },
          "hoverlabel": {
           "align": "left"
          },
          "hovermode": "closest",
          "mapbox": {
           "style": "light"
          },
          "paper_bgcolor": "white",
          "plot_bgcolor": "#E5ECF6",
          "polar": {
           "angularaxis": {
            "gridcolor": "white",
            "linecolor": "white",
            "ticks": ""
           },
           "bgcolor": "#E5ECF6",
           "radialaxis": {
            "gridcolor": "white",
            "linecolor": "white",
            "ticks": ""
           }
          },
          "scene": {
           "xaxis": {
            "backgroundcolor": "#E5ECF6",
            "gridcolor": "white",
            "gridwidth": 2,
            "linecolor": "white",
            "showbackground": true,
            "ticks": "",
            "zerolinecolor": "white"
           },
           "yaxis": {
            "backgroundcolor": "#E5ECF6",
            "gridcolor": "white",
            "gridwidth": 2,
            "linecolor": "white",
            "showbackground": true,
            "ticks": "",
            "zerolinecolor": "white"
           },
           "zaxis": {
            "backgroundcolor": "#E5ECF6",
            "gridcolor": "white",
            "gridwidth": 2,
            "linecolor": "white",
            "showbackground": true,
            "ticks": "",
            "zerolinecolor": "white"
           }
          },
          "shapedefaults": {
           "line": {
            "color": "#2a3f5f"
           }
          },
          "ternary": {
           "aaxis": {
            "gridcolor": "white",
            "linecolor": "white",
            "ticks": ""
           },
           "baxis": {
            "gridcolor": "white",
            "linecolor": "white",
            "ticks": ""
           },
           "bgcolor": "#E5ECF6",
           "caxis": {
            "gridcolor": "white",
            "linecolor": "white",
            "ticks": ""
           }
          },
          "title": {
           "x": 0.05
          },
          "xaxis": {
           "automargin": true,
           "gridcolor": "white",
           "linecolor": "white",
           "ticks": "",
           "title": {
            "standoff": 15
           },
           "zerolinecolor": "white",
           "zerolinewidth": 2
          },
          "yaxis": {
           "automargin": true,
           "gridcolor": "white",
           "linecolor": "white",
           "ticks": "",
           "title": {
            "standoff": 15
           },
           "zerolinecolor": "white",
           "zerolinewidth": 2
          }
         }
        },
        "yaxis": {
         "scaleanchor": "x",
         "scaleratio": 1
        }
       }
      }
     },
     "metadata": {},
     "output_type": "display_data"
    }
   ],
   "source": [
    "import plotly.express as px\n",
    "\n",
    "fig = px.line_3d(rel_df, x='delta_x', y='delta_y', z='delta_z')\n",
    "fig.update_yaxes(\n",
    "    scaleanchor=\"x\",\n",
    "    scaleratio=1,\n",
    "  )\n",
    "fig.show()"
   ]
  }
 ],
 "metadata": {
  "kernelspec": {
   "display_name": "drones",
   "language": "python",
   "name": "python3"
  },
  "language_info": {
   "codemirror_mode": {
    "name": "ipython",
    "version": 3
   },
   "file_extension": ".py",
   "mimetype": "text/x-python",
   "name": "python",
   "nbconvert_exporter": "python",
   "pygments_lexer": "ipython3",
   "version": "3.11.5"
  },
  "orig_nbformat": 4
 },
 "nbformat": 4,
 "nbformat_minor": 2
}
